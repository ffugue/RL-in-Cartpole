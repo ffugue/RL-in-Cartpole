{
 "cells": [
  {
   "cell_type": "code",
   "execution_count": null,
   "metadata": {
    "id": "Y4f-6Bbrcp9g"
   },
   "outputs": [],
   "source": [
    "!pip install gym\n",
    "!pip install numpy"
   ]
  },
  {
   "cell_type": "code",
   "execution_count": null,
   "metadata": {
    "id": "hMZTGQvJdiBQ"
   },
   "outputs": [],
   "source": [
    "import gym\n",
    "from gym import wrappers\n",
    "\n",
    "env = gym.make('CartPole-v1')\n",
    "env = wrappers.RecordVideo(env, './video')\n",
    "\n",
    "total_reward = 0\n",
    "\n",
    "done = False\n",
    "\n",
    "env.reset()\n",
    "\n",
    "while not done:\n",
    "    env.render()\n",
    "\n",
    "    action = env.action_space.sample()\n",
    "\n",
    "    next_state, reward, done, _ = env.step(action)\n",
    "\n",
    "    total_reward += reward\n",
    "\n",
    "env.close()"
   ]
  },
  {
   "cell_type": "code",
   "execution_count": null,
   "metadata": {
    "colab": {
     "base_uri": "https://localhost:8080/",
     "height": 287
    },
    "id": "ZY4u7qmjgVan",
    "outputId": "d86df003-9e08-4bf2-ee2f-41e4d8e5d0ae"
   },
   "outputs": [
    {
     "data": {
      "text/html": [
       "\n",
       "<video width=400 controls>\n",
       "      <source src=\"data:video/mp4;base64,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\" type=\"video/mp4\">\n",
       "</video>\n"
      ],
      "text/plain": [
       "<IPython.core.display.HTML object>"
      ]
     },
     "execution_count": 47,
     "metadata": {},
     "output_type": "execute_result"
    }
   ],
   "source": [
    "from IPython.display import HTML\n",
    "from base64 import b64encode\n",
    "\n",
    "mp4 = open('/content/video/rl-video-episode-0.mp4', 'rb').read()\n",
    "data_url = \"data:video/mp4;base64,\" + b64encode(mp4).decode()\n",
    "HTML(\"\"\"\n",
    "<video width=400 controls>\n",
    "      <source src=\"%s\" type=\"video/mp4\">\n",
    "</video>\n",
    "\"\"\" % data_url)"
   ]
  },
  {
   "cell_type": "code",
   "execution_count": null,
   "metadata": {
    "id": "Rmf-IArBi0kY"
   },
   "outputs": [],
   "source": [
    "!sudo apt-get install xvfb\n",
    "!apt-get update && apt-get install -y xvfb"
   ]
  },
  {
   "cell_type": "code",
   "execution_count": null,
   "metadata": {
    "id": "EfW9bMTLhcXH"
   },
   "outputs": [],
   "source": [
    "!apt-get install x11-utils\n",
    "!pip install pyglet\n",
    "!apt-get install -y xvfb python-opengl\n",
    "!pip install gym pyvirtualdisplay"
   ]
  },
  {
   "cell_type": "code",
   "execution_count": null,
   "metadata": {
    "colab": {
     "base_uri": "https://localhost:8080/"
    },
    "id": "-cNvRMBjhfm_",
    "outputId": "3cf833e5-bdbe-4912-9818-70ea0ce0f963"
   },
   "outputs": [
    {
     "data": {
      "text/plain": [
       "<pyvirtualdisplay.display.Display at 0x7d1e1afb55a0>"
      ]
     },
     "execution_count": 37,
     "metadata": {},
     "output_type": "execute_result"
    }
   ],
   "source": [
    "from pyvirtualdisplay import Display\n",
    "\n",
    "display = Display(visible=0, size=(400, 300))\n",
    "display.start()"
   ]
  },
  {
   "cell_type": "code",
   "execution_count": null,
   "metadata": {
    "colab": {
     "base_uri": "https://localhost:8080/"
    },
    "id": "BZnAAIVippNh",
    "outputId": "2d5bd213-d9b2-425d-b991-074b9c7c4ed5"
   },
   "outputs": [
    {
     "name": "stdout",
     "output_type": "stream",
     "text": [
      "Requirement already satisfied: pillow in /usr/local/lib/python3.10/dist-packages (9.4.0)\n"
     ]
    }
   ],
   "source": [
    "!pip install pillow\n",
    "!pip install imageio"
   ]
  },
  {
   "cell_type": "code",
   "execution_count": null,
   "metadata": {
    "id": "i9HEDC0HhjRo"
   },
   "outputs": [],
   "source": [
    "import gym\n",
    "import imageio\n",
    "\n",
    "env = gym.make('CartPole-v1')\n",
    "env.reset()\n",
    "\n",
    "frames = []\n",
    "done = False\n",
    "\n",
    "screen = env.render(mode='rgb_array')\n",
    "\n",
    "while not done:\n",
    "    action = env.action_space.sample()\n",
    "\n",
    "    obs, reward, done, info = env.step(action)\n",
    "\n",
    "    screen = env.render(mode='rgb_array')\n",
    "    frames.append(screen)\n",
    "    # img = Image.fromarray(np.array(screen), 'RGB')\n",
    "\n",
    "    # clear_output(wait=True)\n",
    "    # display(img)\n",
    "\n",
    "imageio.mimsave('./render.gif', frames, duration=6)\n",
    "env.close()"
   ]
  }
 ],
 "metadata": {
  "colab": {
   "provenance": []
  },
  "kernelspec": {
   "display_name": "Python 3 (ipykernel)",
   "language": "python",
   "name": "python3"
  },
  "language_info": {
   "codemirror_mode": {
    "name": "ipython",
    "version": 3
   },
   "file_extension": ".py",
   "mimetype": "text/x-python",
   "name": "python",
   "nbconvert_exporter": "python",
   "pygments_lexer": "ipython3",
   "version": "3.11.6"
  }
 },
 "nbformat": 4,
 "nbformat_minor": 4
}
