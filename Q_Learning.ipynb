{
 "cells": [
  {
   "cell_type": "markdown",
   "metadata": {
    "id": "yi9CSf4VE59c"
   },
   "source": [
    "# Q Learning"
   ]
  },
  {
   "cell_type": "code",
   "execution_count": null,
   "metadata": {
    "id": "7HDsExywyzzj"
   },
   "outputs": [],
   "source": [
    "import numpy as np\n",
    "\n",
    "class QLearner:\n",
    "    def __init__(self, state_space_size, action_space_size, learning_rate=0.01, discount_factor=0.9):\n",
    "        print(f\"state space size: {state_space_size}\")\n",
    "        print(f\"action space size: {action_space_size}\")\n",
    "        self.state_space_size = state_space_size\n",
    "        self.action_space_size = action_space_size\n",
    "        self.learning_rate = learning_rate\n",
    "        self.discount_factor = discount_factor\n",
    "\n",
    "        self.weights = np.zeros((state_space_size, action_space_size))\n",
    "\n",
    "    def select_action(self, state):\n",
    "        q_values = np.dot(state, self.weights)\n",
    "        return np.argmax(q_values)\n",
    "\n",
    "    def update(self, state, action, reward, next_state):\n",
    "        current_q_values = np.dot(state, self.weights)\n",
    "        next_q_values = np.dot(next_state, self.weights)\n",
    "\n",
    "        best_next_action = np.argmax(next_q_values)\n",
    "        target = reward + self.discount_factor * next_q_values[best_next_action]\n",
    "        self.weights[:, action] += self.learning_rate * (target - current_q_values[action]) * state"
   ]
  },
  {
   "cell_type": "code",
   "execution_count": null,
   "metadata": {
    "colab": {
     "base_uri": "https://localhost:8080/"
    },
    "id": "bxFjaaf02FV6",
    "outputId": "4887c150-14cf-4f68-c12f-ad45fcd45189"
   },
   "outputs": [
    {
     "name": "stdout",
     "output_type": "stream",
     "text": [
      "state space size: 4\n",
      "action space size: 2\n",
      "step: 60\n",
      "eval rewards: 500.0\n",
      "step: 65\n",
      "eval rewards: 500.0\n",
      "step: 70\n",
      "eval rewards: 500.0\n",
      "step: 75\n",
      "eval rewards: 500.0\n",
      "step: 80\n",
      "eval rewards: 320.0\n",
      "step: 90\n",
      "eval rewards: 500.0\n",
      "step: 100\n",
      "eval rewards: 401.0\n",
      "step: 105\n",
      "eval rewards: 279.0\n",
      "step: 110\n",
      "eval rewards: 404.0\n",
      "step: 125\n",
      "eval rewards: 412.0\n",
      "step: 160\n",
      "eval rewards: 238.0\n",
      "step: 185\n",
      "eval rewards: 238.0\n",
      "step: 200\n",
      "eval rewards: 308.0\n",
      "step: 215\n",
      "eval rewards: 256.0\n",
      "step: 275\n",
      "eval rewards: 500.0\n",
      "step: 295\n",
      "eval rewards: 500.0\n",
      "step: 300\n",
      "eval rewards: 500.0\n",
      "step: 315\n",
      "eval rewards: 377.0\n",
      "step: 320\n",
      "eval rewards: 500.0\n",
      "step: 325\n",
      "eval rewards: 500.0\n",
      "step: 330\n",
      "eval rewards: 398.0\n",
      "step: 335\n",
      "eval rewards: 500.0\n",
      "step: 340\n",
      "eval rewards: 500.0\n",
      "step: 345\n",
      "eval rewards: 500.0\n",
      "step: 350\n",
      "eval rewards: 500.0\n",
      "step: 355\n",
      "eval rewards: 500.0\n",
      "step: 360\n",
      "eval rewards: 500.0\n",
      "step: 365\n",
      "eval rewards: 462.0\n",
      "step: 410\n",
      "eval rewards: 500.0\n",
      "step: 415\n",
      "eval rewards: 500.0\n",
      "step: 420\n",
      "eval rewards: 500.0\n",
      "step: 425\n",
      "eval rewards: 500.0\n",
      "step: 430\n",
      "eval rewards: 288.0\n",
      "step: 435\n",
      "eval rewards: 500.0\n",
      "step: 440\n",
      "eval rewards: 500.0\n",
      "step: 445\n",
      "eval rewards: 500.0\n",
      "step: 490\n",
      "eval rewards: 316.0\n"
     ]
    }
   ],
   "source": [
    "import gym\n",
    "from gym import wrappers\n",
    "import numpy as np\n",
    "import matplotlib.pyplot as plt\n",
    "\n",
    "env = gym.make('CartPole-v1')\n",
    "\n",
    "train_step = 500\n",
    "\n",
    "agent = QLearner(env.observation_space._shape[0], env.action_space.n, learning_rate=0.005)\n",
    "\n",
    "for i in range(train_step):\n",
    "    total_reward = 0\n",
    "    state = env.reset()\n",
    "    while True:\n",
    "\n",
    "        action = env.action_space.sample()\n",
    "\n",
    "        next_state, reward, done, _ = env.step(action)\n",
    "\n",
    "        total_reward += reward\n",
    "        agent.update(state, action, reward, next_state)\n",
    "\n",
    "        state = next_state\n",
    "\n",
    "        if done:\n",
    "            break\n",
    "\n",
    "    if i % (5) == 0:\n",
    "        # print(agent.weights)\n",
    "        state = env.reset()\n",
    "        eval_rwrd = 0\n",
    "        while True:\n",
    "            action = agent.select_action(state)\n",
    "\n",
    "            state, reward, done, _ = env.step(action)\n",
    "\n",
    "            eval_rwrd += reward\n",
    "\n",
    "            if done:\n",
    "                break\n",
    "        if eval_rwrd > 200:\n",
    "            print(f'step: {i}')\n",
    "            print(f'eval rewards: {eval_rwrd}')\n",
    "\n",
    "env.close()"
   ]
  },
  {
   "cell_type": "code",
   "execution_count": null,
   "metadata": {
    "colab": {
     "base_uri": "https://localhost:8080/"
    },
    "id": "eTEMCyce4kfj",
    "outputId": "aa647f6c-864d-4693-def4-a4ad949f669f"
   },
   "outputs": [
    {
     "name": "stdout",
     "output_type": "stream",
     "text": [
      "rewards: 238.0\n",
      "rewards: 231.0\n",
      "rewards: 277.0\n",
      "rewards: 200.0\n",
      "rewards: 200.0\n",
      "rewards: 264.0\n",
      "rewards: 214.0\n",
      "rewards: 208.0\n",
      "rewards: 244.0\n",
      "rewards: 221.0\n"
     ]
    },
    {
     "name": "stderr",
     "output_type": "stream",
     "text": [
      "/usr/local/lib/python3.10/dist-packages/gym/wrappers/record_video.py:78: UserWarning: \u001B[33mWARN: Overwriting existing videos at /content/video folder (try specifying a different `video_folder` for the `RecordVideo` wrapper if this is not desired)\u001B[0m\n",
      "  logger.warn(\n",
      "/usr/local/lib/python3.10/dist-packages/gym/wrappers/monitoring/video_recorder.py:78: DeprecationWarning: \u001B[33mWARN: Recording ability for environment CartPole-v1 initialized with `render_mode=None` is marked as deprecated and will be removed in the future.\u001B[0m\n",
      "  logger.deprecation(\n",
      "/usr/local/lib/python3.10/dist-packages/gym/core.py:49: DeprecationWarning: \u001B[33mWARN: You are calling render method, but you didn't specified the argument render_mode at environment initialization. To maintain backward compatibility, the environment will render in human mode.\n",
      "If you want to render in human mode, initialize the environment in this way: gym.make('EnvName', render_mode='human') and don't call the render method.\n",
      "See here for more information: https://www.gymlibrary.ml/content/api/\u001B[0m\n",
      "  deprecation(\n",
      "/usr/local/lib/python3.10/dist-packages/gym/core.py:43: DeprecationWarning: \u001B[33mWARN: The argument mode in render method is deprecated; use render_mode during environment initialization instead.\n",
      "See here for more information: https://www.gymlibrary.ml/content/api/\u001B[0m\n",
      "  deprecation(\n"
     ]
    }
   ],
   "source": [
    "env = gym.make('CartPole-v1')\n",
    "\n",
    "\n",
    "for _ in range(10):\n",
    "    state = env.reset()\n",
    "    total_reward = 0\n",
    "    while True:\n",
    "        action = agent.select_action(state)\n",
    "\n",
    "        state, reward, done, _ = env.step(action)\n",
    "\n",
    "        total_reward += reward\n",
    "\n",
    "        if done:\n",
    "            break\n",
    "\n",
    "    print(f'rewards: {total_reward}')\n",
    "\n",
    "env = wrappers.RecordVideo(env, './video')\n",
    "state = env.reset()\n",
    "total_reward = 0\n",
    "while True:\n",
    "        env.render()\n",
    "\n",
    "        action = agent.select_action(state)\n",
    "\n",
    "        state, reward, done, _ = env.step(action)\n",
    "\n",
    "        total_reward += reward\n",
    "\n",
    "        if done:\n",
    "            break\n",
    "\n",
    "env.close()"
   ]
  },
  {
   "cell_type": "code",
   "execution_count": null,
   "metadata": {
    "colab": {
     "base_uri": "https://localhost:8080/",
     "height": 287
    },
    "id": "SkAhyxMf7pob",
    "outputId": "cc58b139-9f40-4f9e-d9be-c0fd9e4fd511"
   },
   "outputs": [
    {
     "data": {
      "text/html": [
       "\n",
       "<video width=400 controls>\n",
       "      <source src=\"data:video/mp4;base64,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\" type=\"video/mp4\">\n",
       "</video>\n"
      ],
      "text/plain": [
       "<IPython.core.display.HTML object>"
      ]
     },
     "execution_count": 216,
     "metadata": {},
     "output_type": "execute_result"
    }
   ],
   "source": [
    "from IPython.display import HTML\n",
    "from base64 import b64encode\n",
    "mp4 = open('/content/video/rl-video-episode-0.mp4','rb').read()\n",
    "data_url = \"data:video/mp4;base64,\" + b64encode(mp4).decode()\n",
    "HTML(\"\"\"\n",
    "<video width=400 controls>\n",
    "      <source src=\"%s\" type=\"video/mp4\">\n",
    "</video>\n",
    "\"\"\" % data_url)"
   ]
  }
 ],
 "metadata": {
  "colab": {
   "provenance": []
  },
  "kernelspec": {
   "display_name": "Python 3 (ipykernel)",
   "language": "python",
   "name": "python3"
  },
  "language_info": {
   "codemirror_mode": {
    "name": "ipython",
    "version": 3
   },
   "file_extension": ".py",
   "mimetype": "text/x-python",
   "name": "python",
   "nbconvert_exporter": "python",
   "pygments_lexer": "ipython3",
   "version": "3.11.6"
  }
 },
 "nbformat": 4,
 "nbformat_minor": 4
}
